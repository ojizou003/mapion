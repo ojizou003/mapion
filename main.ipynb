{
 "cells": [
  {
   "cell_type": "code",
   "execution_count": 1,
   "id": "4591829b",
   "metadata": {},
   "outputs": [],
   "source": [
    "# imports\n",
    "import requests\n",
    "from bs4 import BeautifulSoup\n",
    "import pandas as pd\n",
    "import re\n",
    "from time import sleep\n",
    "from tqdm import tqdm"
   ]
  },
  {
   "cell_type": "code",
   "execution_count": null,
   "id": "0884837b",
   "metadata": {},
   "outputs": [],
   "source": [
    "# ジャンルとエリアの設定\n",
    "GENRE = \"工務店\"\n",
    "AREA = \"東京都\"\n",
    "BASE_URL = f\"https://www.mapion.co.jp/s/q={GENRE}%20{AREA}/t=spot\"\n",
    "# URL絞込用パラメータ 例）\"/?cate=M26&area=13\"\n",
    "ADD_URL = \"/?cate=M26&area=13\""
   ]
  },
  {
   "cell_type": "code",
   "execution_count": 3,
   "id": "13de15f9",
   "metadata": {},
   "outputs": [],
   "source": [
    "# 総ページ数を取得\n",
    "response = requests.get(BASE_URL + ADD_URL)\n",
    "sleep(1)  # サーバーへの負荷を避けるために1秒待機\n",
    "soup = BeautifulSoup(response.text, \"html.parser\")\n",
    "total_pages = (int(soup.find_all(\"p\", class_=\"subTitle\")[0].find_all(\"span\")[1].text.split('件')[0]) - 1 ) // 20 + 1\n",
    "# スクレイピング可能な最大ページ数\n",
    "max_pages = min(total_pages, 100)\n",
    "# スクレイピングするURLリストの作成\n",
    "urls = [f\"{BASE_URL}/p={page}{ADD_URL}\" for page in range(1, max_pages + 1)]"
   ]
  },
  {
   "cell_type": "code",
   "execution_count": 4,
   "id": "0f45c62d",
   "metadata": {},
   "outputs": [
    {
     "name": "stderr",
     "output_type": "stream",
     "text": [
      "  0%|          | 0/81 [00:00<?, ?it/s]"
     ]
    },
    {
     "name": "stderr",
     "output_type": "stream",
     "text": [
      "100%|██████████| 81/81 [01:37<00:00,  1.21s/it]\n"
     ]
    }
   ],
   "source": [
    "# スクレイピング開始\n",
    "pattern = r\"^0\\d{1,4}-\\d{1,4}-\\d{3,4}$|^0\\d{9,10}$\" # 電話番号の正規表現パターン\n",
    "results = []\n",
    "for url in tqdm(urls):\n",
    "    response = requests.get(url)\n",
    "    sleep(1)  # サーバー負荷軽減のため1秒待機\n",
    "    soup = BeautifulSoup(response.text, \"html.parser\")\n",
    "    section = soup.find(\"div\", id=\"NumberSection\")\n",
    "    cards = section.find_all(\"dl\")\n",
    "    items = []\n",
    "    for card in cards:\n",
    "        # 会社名を抽出\n",
    "        name = \" - \"\n",
    "        try:\n",
    "            name = card.find('a').text.replace('\\u3000', ' ').strip()\n",
    "        except:\n",
    "            name = \" - \"\n",
    "        # 住所を抽出\n",
    "        address = \" - \"\n",
    "        try:\n",
    "            address = card.find_all('dd')[2].text\n",
    "        except:\n",
    "            try:\n",
    "                address = card.find(\"li\", class_=\"dataAdr\").text.strip()\n",
    "            except:\n",
    "                address = \" - \"\n",
    "        # 電話番号を抽出\n",
    "        phone = \" - \"\n",
    "        try:\n",
    "            phone = card.find_all('dd')[3].text.strip()\n",
    "        except:\n",
    "            try:\n",
    "                phone = card.find(\"li\", class_=\"dataTel\").text.strip()\n",
    "            except:\n",
    "                phone = \" - \"\n",
    "        if re.match(pattern, phone):\n",
    "            items.append({\n",
    "                \"会社名\": name,\n",
    "                \"住所\": address,\n",
    "                \"電話番号\": phone\n",
    "            })\n",
    "    results.extend(items)"
   ]
  },
  {
   "cell_type": "code",
   "execution_count": 5,
   "id": "3d6c94be",
   "metadata": {},
   "outputs": [
    {
     "name": "stdout",
     "output_type": "stream",
     "text": [
      "15\n",
      "0\n"
     ]
    }
   ],
   "source": [
    "# 重複行を削除\n",
    "df = pd.DataFrame(results)\n",
    "print(df.duplicated().sum())\n",
    "df = df.drop_duplicates().reset_index(drop=True)\n",
    "print(df.duplicated().sum())"
   ]
  },
  {
   "cell_type": "code",
   "execution_count": 6,
   "id": "f06a285a",
   "metadata": {},
   "outputs": [],
   "source": [
    "# CSVファイルに出力\n",
    "df.to_csv(f\"data/{GENRE}_{AREA}.csv\", index=False)"
   ]
  },
  {
   "cell_type": "code",
   "execution_count": null,
   "id": "1cb8918b",
   "metadata": {},
   "outputs": [],
   "source": []
  }
 ],
 "metadata": {
  "kernelspec": {
   "display_name": ".venv",
   "language": "python",
   "name": "python3"
  },
  "language_info": {
   "codemirror_mode": {
    "name": "ipython",
    "version": 3
   },
   "file_extension": ".py",
   "mimetype": "text/x-python",
   "name": "python",
   "nbconvert_exporter": "python",
   "pygments_lexer": "ipython3",
   "version": "3.13.5"
  }
 },
 "nbformat": 4,
 "nbformat_minor": 5
}
