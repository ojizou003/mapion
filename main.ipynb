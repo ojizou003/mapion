{
 "cells": [
  {
   "cell_type": "code",
   "execution_count": 112,
   "id": "4591829b",
   "metadata": {},
   "outputs": [],
   "source": [
    "# imports\n",
    "import requests\n",
    "from bs4 import BeautifulSoup\n",
    "import pandas as pd\n",
    "import re\n",
    "from time import sleep\n",
    "from tqdm import tqdm"
   ]
  },
  {
   "cell_type": "code",
   "execution_count": null,
   "id": "0884837b",
   "metadata": {},
   "outputs": [],
   "source": [
    "# ジャンルとエリアの設定\n",
    "GENRE = \"\"\n",
    "AREA = \"\"\n",
    "BASE_URL = f\"https://www.mapion.co.jp/s/q={GENRE}%20{AREA}/t=spot/\""
   ]
  },
  {
   "cell_type": "code",
   "execution_count": 116,
   "id": "13de15f9",
   "metadata": {},
   "outputs": [],
   "source": [
    "# 総ページ数を取得\n",
    "response = requests.get(BASE_URL)\n",
    "sleep(1)  # サーバーへの負荷を避けるために1秒待機\n",
    "soup = BeautifulSoup(response.text, \"html.parser\")\n",
    "total_pages = (int(soup.find_all(\"p\", class_=\"subTitle\")[0].find_all(\"span\")[1].text.split('件')[0]) - 1 ) // 20 + 1\n",
    "# スクレイピング可能な最大ページ数\n",
    "max_pages = min(total_pages, 100)\n",
    "# スクレイピングするURLリストの作成\n",
    "urls = [f\"{BASE_URL}p={page}\" for page in range(1, max_pages + 1)]"
   ]
  },
  {
   "cell_type": "code",
   "execution_count": null,
   "id": "0f45c62d",
   "metadata": {},
   "outputs": [
    {
     "name": "stderr",
     "output_type": "stream",
     "text": [
      "100%|██████████| 43/43 [00:52<00:00,  1.21s/it]\n"
     ]
    }
   ],
   "source": [
    "# スクレイピング開始\n",
    "resurlts = []\n",
    "for url in tqdm(urls):\n",
    "    response = requests.get(url)\n",
    "    sleep(1)  # サーバー負荷軽減のため1秒待機\n",
    "    soup = BeautifulSoup(response.text, \"html.parser\")\n",
    "    section = soup.find(\"div\", id=\"NumberSection\")\n",
    "    cards = [f'{section.find_all(\"dl\")[n]}' for n in list(range(len(section.find_all(\"dl\")))) if n % 2 != 0]\n",
    "    items = []\n",
    "    for card_text in cards:\n",
    "        card = BeautifulSoup(card_text, \"html.parser\")\n",
    "        # 会社名を抽出\n",
    "        name = \" - \"\n",
    "        try:\n",
    "            name = card.find('a').text.replace('\\u3000', ' ').strip()\n",
    "        except:\n",
    "            name = \" - \"\n",
    "        # 住所を抽出\n",
    "        address = \" - \"\n",
    "        try:\n",
    "            address = card.find_all('dd')[2].text\n",
    "        except:\n",
    "            address = \" - \"\n",
    "        # 電話番号を抽出\n",
    "        phone = \" - \"\n",
    "        try:\n",
    "            phone = card.find_all('dd')[3].text.strip()\n",
    "        except:\n",
    "            phone = \" - \"\n",
    "        items.append({\n",
    "            \"会社名\": name,\n",
    "            \"住所\": address,\n",
    "            \"電話番号\": phone\n",
    "        })\n",
    "    resurlts.extend(items)"
   ]
  },
  {
   "cell_type": "code",
   "execution_count": null,
   "id": "f06a285a",
   "metadata": {},
   "outputs": [],
   "source": [
    "# データフレームに変換してCSVファイルに出力\n",
    "pd.DataFrame(resurlts).to_csv(f\"data/{GENRE}_{AREA}.csv\", index=False)"
   ]
  },
  {
   "cell_type": "code",
   "execution_count": null,
   "id": "afa046f2",
   "metadata": {},
   "outputs": [],
   "source": []
  }
 ],
 "metadata": {
  "kernelspec": {
   "display_name": ".venv",
   "language": "python",
   "name": "python3"
  },
  "language_info": {
   "codemirror_mode": {
    "name": "ipython",
    "version": 3
   },
   "file_extension": ".py",
   "mimetype": "text/x-python",
   "name": "python",
   "nbconvert_exporter": "python",
   "pygments_lexer": "ipython3",
   "version": "3.13.5"
  }
 },
 "nbformat": 4,
 "nbformat_minor": 5
}
